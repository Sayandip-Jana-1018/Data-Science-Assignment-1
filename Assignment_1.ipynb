{
 "cells": [
  {
   "cell_type": "code",
   "execution_count": null,
   "id": "098473e2-7e61-457f-8647-0ac0e2d9ca26",
   "metadata": {},
   "outputs": [],
   "source": [
    "# Q1. Which keyword is used to create a function? Create a function to return a list of odd numbers in the range of 1 to 25."
   ]
  },
  {
   "cell_type": "code",
   "execution_count": 1,
   "id": "2edf5ce0-fb7e-4a26-be02-e6b70ed56731",
   "metadata": {},
   "outputs": [],
   "source": [
    "# \"def\" keyword is used to create a function.\n",
    "l = []\n",
    "def odd_numbers(n):\n",
    "    odd_list = [i for i in range(1,n+1) if i%2!=0]\n",
    "    return odd_list"
   ]
  },
  {
   "cell_type": "code",
   "execution_count": 2,
   "id": "76f9117e-851f-4efa-849f-d5f7d87d1f8a",
   "metadata": {},
   "outputs": [
    {
     "name": "stdout",
     "output_type": "stream",
     "text": [
      "[1, 3, 5, 7, 9, 11, 13, 15, 17, 19, 21, 23, 25]\n"
     ]
    }
   ],
   "source": [
    "print(odd_numbers(25))"
   ]
  },
  {
   "cell_type": "code",
   "execution_count": null,
   "id": "b24dfac6-5e4f-42f6-b83a-0079273d6011",
   "metadata": {},
   "outputs": [],
   "source": [
    "# Q2. Why *args and **kwargs is used in some functions? Create a function each for *args and **kwargs to demonstrate their use."
   ]
  },
  {
   "cell_type": "code",
   "execution_count": 3,
   "id": "63e0b3ac-e9aa-4c1a-97ad-660949c5acb5",
   "metadata": {},
   "outputs": [],
   "source": [
    "# *args is used to create a tuple using multiple argument values given by the user, whereas *kwargs is used to create a dictionary. Example:\n",
    "def args1(*args, z):\n",
    "    return args, z\n",
    "def kwargs1(**kwargs):\n",
    "    return kwargs"
   ]
  },
  {
   "cell_type": "code",
   "execution_count": 5,
   "id": "70c6849c-7b48-4cca-94c8-a86c1b71d5fc",
   "metadata": {},
   "outputs": [
    {
     "data": {
      "text/plain": [
       "((1, 2, 3, 4), 23)"
      ]
     },
     "execution_count": 5,
     "metadata": {},
     "output_type": "execute_result"
    }
   ],
   "source": [
    "args1(1,2,3,4 , z = 23)\n"
   ]
  },
  {
   "cell_type": "code",
   "execution_count": 6,
   "id": "8c026202-bf8d-4411-bf9a-9ea8068efcb5",
   "metadata": {},
   "outputs": [
    {
     "data": {
      "text/plain": [
       "{'a': [2, 3, 4, 5], 'b': 'Sayandip', 'c': 100}"
      ]
     },
     "execution_count": 6,
     "metadata": {},
     "output_type": "execute_result"
    }
   ],
   "source": [
    "kwargs1(a = [2,3,4,5], b = \"Sayandip\", c = 100)"
   ]
  },
  {
   "cell_type": "code",
   "execution_count": null,
   "id": "e5263035-249b-4ef0-9e98-514c87af2176",
   "metadata": {},
   "outputs": [],
   "source": [
    "# Q3. What is an iterator in python? Name the method used to initialise the iterator object and the method used for iteration. Use these methods to print the first\n",
    "# five elements of the given list [2, 4, 6, 8, 10, 12, 14, 16, 18, 20]."
   ]
  },
  {
   "cell_type": "code",
   "execution_count": 7,
   "id": "09e79983-33c5-4858-ac65-29802e29f6cf",
   "metadata": {},
   "outputs": [
    {
     "name": "stdout",
     "output_type": "stream",
     "text": [
      "2\n",
      "4\n",
      "6\n",
      "8\n",
      "10\n"
     ]
    }
   ],
   "source": [
    "# In python, iterator object is used to iterate over the sequence of elements, such as a list, tuple, or any custom iterable object, one element at a time.\n",
    "# To initialise an iterable object, we can use iter() function and the method used to iterate is next().\n",
    "list = iter([2, 4, 6, 8, 10, 12, 14, 16, 18, 20])\n",
    "for _ in range(5):\n",
    "    print(next(list))"
   ]
  },
  {
   "cell_type": "code",
   "execution_count": null,
   "id": "10cb8d7b-e35f-466d-94e5-cc0cb65ca441",
   "metadata": {},
   "outputs": [],
   "source": [
    "# Q4. What is a generator function in python? Why yield keyword is used? Give an example of a generator function."
   ]
  },
  {
   "cell_type": "code",
   "execution_count": 8,
   "id": "0cfd69d8-4654-4eec-8290-8a5777a7ec2f",
   "metadata": {},
   "outputs": [
    {
     "name": "stdout",
     "output_type": "stream",
     "text": [
      "<generator object generator at 0x7f19f7351a80>\n"
     ]
    }
   ],
   "source": [
    "# A generator function in Python is a special type of function that allows us to generate a sequence of values lazily, one at a time, rather than generating and storing all the values in memory at once. This is particularly useful when we need to work with large or infinite sequences of data, as it helps save memory and allows for more efficient iteration.\n",
    "# The yield keyword is used in a generator function to indicate where the function should yield a value to the caller. When a generator function encounters a yield statement, it temporarily suspends its execution, remembers its state, and returns the yielded value to the caller. The function's state is then saved, so the next time the function is called, it can resume from where it left off, continuing the execution\n",
    "def generator(n):\n",
    "    while n > 0:\n",
    "        yield n\n",
    "        n -= 1\n",
    "yield_generator = generator(5)\n",
    "print(yield_generator) # generated a function and yielded a generator object using yield keyword"
   ]
  },
  {
   "cell_type": "code",
   "execution_count": 9,
   "id": "85f44d80-0db4-474f-9ce8-591b99cdccd9",
   "metadata": {},
   "outputs": [
    {
     "name": "stdout",
     "output_type": "stream",
     "text": [
      "5\n",
      "4\n",
      "3\n",
      "2\n",
      "1\n"
     ]
    }
   ],
   "source": [
    "for i in yield_generator:\n",
    "    print(i) # now it actually returned final values"
   ]
  },
  {
   "cell_type": "code",
   "execution_count": null,
   "id": "6fa89187-632a-4065-921f-7b47fd468bbb",
   "metadata": {},
   "outputs": [],
   "source": [
    "# Q5. Create a generator function for prime numbers less than 1000. Use the next() method to print the first 20 prime numbers."
   ]
  },
  {
   "cell_type": "code",
   "execution_count": 10,
   "id": "a536cdb3-fa7b-427f-851f-f04cf6f192bf",
   "metadata": {},
   "outputs": [],
   "source": [
    "def generator_prime():\n",
    "    for i in range(2, 1000):\n",
    "        c=0\n",
    "        for j in range(1,i + 1):\n",
    "            if i % j == 0:\n",
    "                c+=1\n",
    "        if c<=2:\n",
    "            yield(i)"
   ]
  },
  {
   "cell_type": "code",
   "execution_count": 11,
   "id": "7d2d4e54-f8ef-4147-8d36-4f21e5cc52be",
   "metadata": {},
   "outputs": [
    {
     "name": "stdout",
     "output_type": "stream",
     "text": [
      "2\n",
      "3\n",
      "5\n",
      "7\n",
      "11\n",
      "13\n",
      "17\n",
      "19\n",
      "23\n",
      "29\n",
      "31\n",
      "37\n",
      "41\n",
      "43\n",
      "47\n",
      "53\n",
      "59\n",
      "61\n",
      "67\n",
      "71\n"
     ]
    }
   ],
   "source": [
    "prime_gen = generator_prime()\n",
    "for _ in range(20):\n",
    "    prime = next(prime_gen)\n",
    "    print(prime)"
   ]
  },
  {
   "cell_type": "code",
   "execution_count": null,
   "id": "64a53375-b463-46ef-be1c-b2511e39939a",
   "metadata": {},
   "outputs": [],
   "source": [
    "# Write a python program to print the first 10 Fibonacci numbers using a while loop."
   ]
  },
  {
   "cell_type": "code",
   "execution_count": 12,
   "id": "77f41e9f-39c1-4186-b11c-99fc6c02b422",
   "metadata": {},
   "outputs": [],
   "source": [
    "def fibonacci():\n",
    "    a,b,c = 0,1,0\n",
    "    while(c<10):\n",
    "        print(a)\n",
    "        a,b=b,a+b\n",
    "        c+=1"
   ]
  },
  {
   "cell_type": "code",
   "execution_count": 13,
   "id": "84f83ca5-d322-40de-87bd-24e387f8575c",
   "metadata": {},
   "outputs": [
    {
     "name": "stdout",
     "output_type": "stream",
     "text": [
      "0\n",
      "1\n",
      "1\n",
      "2\n",
      "3\n",
      "5\n",
      "8\n",
      "13\n",
      "21\n",
      "34\n"
     ]
    }
   ],
   "source": [
    "fibonacci()"
   ]
  },
  {
   "cell_type": "code",
   "execution_count": null,
   "id": "0cd1fb67-32a5-41ce-b767-dbf96bbc00cf",
   "metadata": {},
   "outputs": [],
   "source": [
    "# Q7. Write a List Comprehension to iterate through the given string: ‘pwskills’. Expected output: ['p', 'w', 's', 'k', 'i', 'l', 'l', 's']"
   ]
  },
  {
   "cell_type": "code",
   "execution_count": 14,
   "id": "7d9b9632-3940-4475-a16d-1caad9806e73",
   "metadata": {},
   "outputs": [
    {
     "name": "stdout",
     "output_type": "stream",
     "text": [
      "['p', 'w', 's', 'k', 'i', 'l', 'l', 's']\n"
     ]
    }
   ],
   "source": [
    "str = \"pwskills\"\n",
    "s = []\n",
    "for i in str:\n",
    "    s.append(i)\n",
    "print(s)"
   ]
  },
  {
   "cell_type": "code",
   "execution_count": null,
   "id": "e043a559-dc12-4b97-8b4a-b95a441fb641",
   "metadata": {},
   "outputs": [],
   "source": [
    "# Q8. Write a python program to check whether a given number is Palindrome or not using a while loop."
   ]
  },
  {
   "cell_type": "code",
   "execution_count": 3,
   "id": "44d1bc47-d532-4f07-952a-1dd411c9f933",
   "metadata": {},
   "outputs": [
    {
     "name": "stdin",
     "output_type": "stream",
     "text": [
      "Enter a number:  1234321\n"
     ]
    },
    {
     "name": "stdout",
     "output_type": "stream",
     "text": [
      "1234321 is a palindrome\n"
     ]
    }
   ],
   "source": [
    "def is_palindrome(num):\n",
    "    num_str = str(num)\n",
    "    reversed_str = num_str[::-1]\n",
    "    if num_str == reversed_str:\n",
    "        return True\n",
    "    else:\n",
    "        return False\n",
    "    \n",
    "num = int(input(\"Enter a number: \"))\n",
    "\n",
    "if is_palindrome(num):\n",
    "    print(num, \"is a palindrome\")\n",
    "else:\n",
    "    print(num, \"is not a palindrome\")"
   ]
  },
  {
   "cell_type": "code",
   "execution_count": null,
   "id": "a0c36e5a-7e46-4a1f-a11f-e4b03e1c3a72",
   "metadata": {},
   "outputs": [],
   "source": [
    "# Q9. Write a code to print odd numbers from 1 to 100 using list comprehension."
   ]
  },
  {
   "cell_type": "code",
   "execution_count": 5,
   "id": "32d6f865-e50b-4bcf-b8d7-1edb85abd4bd",
   "metadata": {},
   "outputs": [],
   "source": [
    "def odd_numbers(n):\n",
    "    return [x for x in range(0, n) if x%2 != 0]"
   ]
  },
  {
   "cell_type": "code",
   "execution_count": 6,
   "id": "d956faa3-0bd1-4750-baed-059e17e0ea38",
   "metadata": {},
   "outputs": [
    {
     "name": "stdout",
     "output_type": "stream",
     "text": [
      "[1, 3, 5, 7, 9, 11, 13, 15, 17, 19, 21, 23, 25, 27, 29, 31, 33, 35, 37, 39, 41, 43, 45, 47, 49, 51, 53, 55, 57, 59, 61, 63, 65, 67, 69, 71, 73, 75, 77, 79, 81, 83, 85, 87, 89, 91, 93, 95, 97, 99]\n"
     ]
    }
   ],
   "source": [
    "print(odd_numbers(100))"
   ]
  }
 ],
 "metadata": {
  "kernelspec": {
   "display_name": "Python 3 (ipykernel)",
   "language": "python",
   "name": "python3"
  },
  "language_info": {
   "codemirror_mode": {
    "name": "ipython",
    "version": 3
   },
   "file_extension": ".py",
   "mimetype": "text/x-python",
   "name": "python",
   "nbconvert_exporter": "python",
   "pygments_lexer": "ipython3",
   "version": "3.10.8"
  }
 },
 "nbformat": 4,
 "nbformat_minor": 5
}
